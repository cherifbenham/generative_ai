{
 "cells": [
  {
   "cell_type": "code",
   "execution_count": null,
   "id": "6e422c28",
   "metadata": {},
   "outputs": [],
   "source": [
    "import pandas as pd\n",
    "import json\n",
    "from datetime import datetime\n",
    "\n",
    "# Load JSON file\n",
    "with open('BrowserHistory.json') as f:\n",
    "    data = json.load(f)\n",
    "\n",
    "# Parse JSON into DataFrame\n",
    "history_df = pd.json_normalize(data['BrowserHistory'])\n",
    "\n",
    "# Convert timestamp\n",
    "history_df['time_usec'] = history_df['time_usec'].apply(lambda x: datetime.fromtimestamp(int(x)/1000000).strftime('%Y-%m-%d %H:%M:%S'))\n",
    "\n",
    "history_df.head()\n"
   ]
  }
 ],
 "metadata": {
  "kernelspec": {
   "display_name": "Python 3 (ipykernel)",
   "language": "python",
   "name": "python3"
  },
  "language_info": {
   "codemirror_mode": {
    "name": "ipython",
    "version": 3
   },
   "file_extension": ".py",
   "mimetype": "text/x-python",
   "name": "python",
   "nbconvert_exporter": "python",
   "pygments_lexer": "ipython3",
   "version": "3.9.16"
  },
  "toc": {
   "base_numbering": 1,
   "nav_menu": {},
   "number_sections": true,
   "sideBar": true,
   "skip_h1_title": false,
   "title_cell": "Table of Contents",
   "title_sidebar": "Contents",
   "toc_cell": false,
   "toc_position": {},
   "toc_section_display": true,
   "toc_window_display": false
  }
 },
 "nbformat": 4,
 "nbformat_minor": 5
}
