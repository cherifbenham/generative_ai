{
 "cells": [
  {
   "cell_type": "code",
   "execution_count": 21,
   "id": "e998316c",
   "metadata": {},
   "outputs": [
    {
     "name": "stdout",
     "output_type": "stream",
     "text": [
      "Requirement already satisfied: wikipedia in /Users/cherifbenham/.pyenv/versions/3.8.13/envs/lewagon/lib/python3.8/site-packages (1.4.0)\r\n",
      "Requirement already satisfied: requests<3.0.0,>=2.0.0 in /Users/cherifbenham/.pyenv/versions/3.8.13/envs/lewagon/lib/python3.8/site-packages (from wikipedia) (2.28.2)\r\n",
      "Requirement already satisfied: beautifulsoup4 in /Users/cherifbenham/.pyenv/versions/3.8.13/envs/lewagon/lib/python3.8/site-packages (from wikipedia) (4.10.0)\r\n",
      "Requirement already satisfied: charset-normalizer<4,>=2 in /Users/cherifbenham/.pyenv/versions/3.8.13/envs/lewagon/lib/python3.8/site-packages (from requests<3.0.0,>=2.0.0->wikipedia) (2.1.1)\r\n",
      "Requirement already satisfied: urllib3<1.27,>=1.21.1 in /Users/cherifbenham/.pyenv/versions/3.8.13/envs/lewagon/lib/python3.8/site-packages (from requests<3.0.0,>=2.0.0->wikipedia) (1.26.14)\r\n",
      "Requirement already satisfied: certifi>=2017.4.17 in /Users/cherifbenham/.pyenv/versions/3.8.13/envs/lewagon/lib/python3.8/site-packages (from requests<3.0.0,>=2.0.0->wikipedia) (2022.12.7)\r\n",
      "Requirement already satisfied: idna<4,>=2.5 in /Users/cherifbenham/.pyenv/versions/3.8.13/envs/lewagon/lib/python3.8/site-packages (from requests<3.0.0,>=2.0.0->wikipedia) (3.4)\r\n",
      "Requirement already satisfied: soupsieve>1.2 in /Users/cherifbenham/.pyenv/versions/3.8.13/envs/lewagon/lib/python3.8/site-packages (from beautifulsoup4->wikipedia) (2.3.1)\r\n"
     ]
    }
   ],
   "source": [
    "!pip install wikipedia"
   ]
  },
  {
   "cell_type": "code",
   "execution_count": 22,
   "id": "df0968f6",
   "metadata": {},
   "outputs": [],
   "source": [
    "from langchain.utilities import WikipediaAPIWrapper"
   ]
  },
  {
   "cell_type": "code",
   "execution_count": 23,
   "id": "d0f97350",
   "metadata": {},
   "outputs": [],
   "source": [
    "query=\"cannes festival 2023\""
   ]
  },
  {
   "cell_type": "code",
   "execution_count": 24,
   "id": "749e4877",
   "metadata": {},
   "outputs": [],
   "source": [
    "wikipedia=WikipediaAPIWrapper()"
   ]
  },
  {
   "cell_type": "code",
   "execution_count": 25,
   "id": "682f4ce4",
   "metadata": {},
   "outputs": [
    {
     "data": {
      "text/plain": [
       "\"Page: 2023 Cannes Film Festival\\nSummary: The 76th annual Cannes Film Festival is an upcoming film festival due to take place from 16 to 27 May 2023.\\n\\n\\n\\nPage: 2022 Cannes Film Festival\\nSummary: The 75th annual Cannes Film Festival is a film festival that took place from 17 to 28 May 2022. The festival featured a tribute to actor Tom Cruise, whose film Top Gun: Maverick premiered at the festival and where the actor was awarded an Honorary Palme d'Or award on short notice. The official poster for the festival was designed as a homage to The Truman Show (1998).The festival returned to its full spectator capacity after disruption to the previous two year's editions due to COVID-19 restrictions in France.\\n\\nPage: 2019 Cannes Film Festival\\nSummary: The 72nd annual Cannes Film Festival took place from 14 to 25 May 2019. Mexican filmmaker Alejandro González Iñárritu served as jury president. The Palme d'Or went to the South Korean film Parasite, directed by Bong Joon-ho; Bong became the first Korean director to win the award.American film director Jim Jarmusch's ensemble zombie comedy film The Dead Don't Die served as the opening film of the festival. The festival honoured French filmmaker Agnès Varda, who died in March 2019, featuring her on the official poster of the festival. The photograph used was taken during the filming of her debut film La Pointe Courte (1955), which later screened at the Cannes Film Festival.\""
      ]
     },
     "execution_count": 25,
     "metadata": {},
     "output_type": "execute_result"
    }
   ],
   "source": [
    "wikipedia.run(\"cannes film festival 2023\")"
   ]
  },
  {
   "cell_type": "code",
   "execution_count": 26,
   "id": "686913dd",
   "metadata": {},
   "outputs": [
    {
     "name": "stdout",
     "output_type": "stream",
     "text": [
      "Requirement already satisfied: google-search-results in /Users/cherifbenham/.pyenv/versions/3.8.13/envs/lewagon/lib/python3.8/site-packages (2.4.2)\n",
      "Requirement already satisfied: requests in /Users/cherifbenham/.pyenv/versions/3.8.13/envs/lewagon/lib/python3.8/site-packages (from google-search-results) (2.28.2)\n",
      "Requirement already satisfied: charset-normalizer<4,>=2 in /Users/cherifbenham/.pyenv/versions/3.8.13/envs/lewagon/lib/python3.8/site-packages (from requests->google-search-results) (2.1.1)\n",
      "Requirement already satisfied: certifi>=2017.4.17 in /Users/cherifbenham/.pyenv/versions/3.8.13/envs/lewagon/lib/python3.8/site-packages (from requests->google-search-results) (2022.12.7)\n",
      "Requirement already satisfied: urllib3<1.27,>=1.21.1 in /Users/cherifbenham/.pyenv/versions/3.8.13/envs/lewagon/lib/python3.8/site-packages (from requests->google-search-results) (1.26.14)\n",
      "Requirement already satisfied: idna<4,>=2.5 in /Users/cherifbenham/.pyenv/versions/3.8.13/envs/lewagon/lib/python3.8/site-packages (from requests->google-search-results) (3.4)\n"
     ]
    }
   ],
   "source": [
    "!pip install google-search-results"
   ]
  },
  {
   "cell_type": "code",
   "execution_count": 27,
   "id": "6dccac77",
   "metadata": {},
   "outputs": [],
   "source": [
    "from langchain.utilities import SerpAPIWrapper"
   ]
  },
  {
   "cell_type": "code",
   "execution_count": 28,
   "id": "ff6945ef",
   "metadata": {},
   "outputs": [],
   "source": [
    "query=\"who will open the cannes film festival 2023\""
   ]
  },
  {
   "cell_type": "code",
   "execution_count": 29,
   "id": "bc354e38",
   "metadata": {},
   "outputs": [],
   "source": [
    "params={\n",
    "    'engine':'google',\n",
    "    'google_domain': 'google.com',\n",
    "    'gl':'fr',\n",
    "    'hl':'en'\n",
    "       }"
   ]
  },
  {
   "cell_type": "code",
   "execution_count": 30,
   "id": "4f523d06",
   "metadata": {},
   "outputs": [],
   "source": [
    "search = SerpAPIWrapper(params=params, serpapi_api_key=\"ad3e6b0dfbf15510c40e159be7d54fe7cafbe11b379c8a19f54e0c0d07c054ac\")"
   ]
  },
  {
   "cell_type": "code",
   "execution_count": 31,
   "id": "a01a534e",
   "metadata": {
    "scrolled": true
   },
   "outputs": [
    {
     "data": {
      "text/plain": [
       "SerpAPIWrapper(search_engine=<class 'serpapi.google_search.GoogleSearch'>, params={'engine': 'google', 'google_domain': 'google.com', 'gl': 'fr', 'hl': 'en'}, serpapi_api_key='ad3e6b0dfbf15510c40e159be7d54fe7cafbe11b379c8a19f54e0c0d07c054ac', aiosession=None)"
      ]
     },
     "execution_count": 31,
     "metadata": {},
     "output_type": "execute_result"
    }
   ],
   "source": [
    "search"
   ]
  },
  {
   "cell_type": "code",
   "execution_count": 32,
   "id": "2dce9438",
   "metadata": {},
   "outputs": [
    {
     "data": {
      "text/plain": [
       "'who will open the cannes film festival 2023'"
      ]
     },
     "execution_count": 32,
     "metadata": {},
     "output_type": "execute_result"
    }
   ],
   "source": [
    "query"
   ]
  },
  {
   "cell_type": "code",
   "execution_count": 33,
   "id": "8312a50c",
   "metadata": {
    "scrolled": true
   },
   "outputs": [],
   "source": [
    "context=search.run(query)"
   ]
  },
  {
   "cell_type": "code",
   "execution_count": 34,
   "id": "2a4c6893",
   "metadata": {},
   "outputs": [
    {
     "data": {
      "text/plain": [
       "'Johnny Depp stars in “Jeanne du Barry,” which will open the festival.'"
      ]
     },
     "execution_count": 34,
     "metadata": {},
     "output_type": "execute_result"
    }
   ],
   "source": [
    "context"
   ]
  },
  {
   "cell_type": "code",
   "execution_count": 35,
   "id": "86beae00",
   "metadata": {},
   "outputs": [],
   "source": [
    "# build our prompt with the retrieved contexts included\n",
    "prompt = (\n",
    "    \"Answer the question based on the context below.\\n\\n\"+\n",
    "    \"Context:\\n\\n\"+\n",
    "    context+'\\n\\n'+\n",
    "    context+'\\n\\n'+\n",
    "    context+'\\n\\n'+\n",
    "    context+'\\n\\n'+\n",
    "    context+'\\n\\n'+\n",
    "    context+'\\n\\n'+\n",
    "    f\"\\n\\nQuestion: {query}\\nAnswer:\"\n",
    ")"
   ]
  },
  {
   "cell_type": "code",
   "execution_count": 36,
   "id": "d1e312b0",
   "metadata": {},
   "outputs": [
    {
     "data": {
      "text/plain": [
       "'Answer the question based on the context below.\\n\\nContext:\\n\\nJohnny Depp stars in “Jeanne du Barry,” which will open the festival.\\n\\nJohnny Depp stars in “Jeanne du Barry,” which will open the festival.\\n\\nJohnny Depp stars in “Jeanne du Barry,” which will open the festival.\\n\\nJohnny Depp stars in “Jeanne du Barry,” which will open the festival.\\n\\nJohnny Depp stars in “Jeanne du Barry,” which will open the festival.\\n\\nJohnny Depp stars in “Jeanne du Barry,” which will open the festival.\\n\\n\\n\\nQuestion: who will open the cannes film festival 2023\\nAnswer:'"
      ]
     },
     "execution_count": 36,
     "metadata": {},
     "output_type": "execute_result"
    }
   ],
   "source": [
    "prompt"
   ]
  },
  {
   "cell_type": "code",
   "execution_count": 44,
   "id": "36e6073e",
   "metadata": {},
   "outputs": [],
   "source": [
    "import openai\n",
    "import os\n",
    "\n",
    "openai.api_key = os.getenv(\"CHATGPT_API_KEY\")"
   ]
  },
  {
   "cell_type": "code",
   "execution_count": 45,
   "id": "93a34c7c",
   "metadata": {},
   "outputs": [],
   "source": [
    "def complete(prompt):\n",
    "    # query text-davinci-003\n",
    "    res = openai.Completion.create(\n",
    "        engine='text-davinci-003',\n",
    "        prompt=prompt,\n",
    "        temperature=0,\n",
    "        max_tokens=2000,\n",
    "        top_p=1,\n",
    "        frequency_penalty=0,\n",
    "        presence_penalty=0,\n",
    "        stop=None\n",
    "    )\n",
    "    return res['choices'][0]['text'].strip()"
   ]
  },
  {
   "cell_type": "code",
   "execution_count": 46,
   "id": "20f36671",
   "metadata": {},
   "outputs": [
    {
     "data": {
      "text/plain": [
       "'The Cannes Film Festival has not yet announced who will open the 2023 festival.'"
      ]
     },
     "execution_count": 46,
     "metadata": {},
     "output_type": "execute_result"
    }
   ],
   "source": [
    "complete(query)"
   ]
  },
  {
   "cell_type": "code",
   "execution_count": 47,
   "id": "8dc188ba",
   "metadata": {},
   "outputs": [
    {
     "data": {
      "text/plain": [
       "'Answer the question based on the context below.\\n\\nContext:\\n\\nJohnny Depp stars in “Jeanne du Barry,” which will open the festival.\\n\\nJohnny Depp stars in “Jeanne du Barry,” which will open the festival.\\n\\nJohnny Depp stars in “Jeanne du Barry,” which will open the festival.\\n\\nJohnny Depp stars in “Jeanne du Barry,” which will open the festival.\\n\\nJohnny Depp stars in “Jeanne du Barry,” which will open the festival.\\n\\nJohnny Depp stars in “Jeanne du Barry,” which will open the festival.\\n\\n\\n\\nQuestion: who will open the cannes film festival 2023\\nAnswer:'"
      ]
     },
     "execution_count": 47,
     "metadata": {},
     "output_type": "execute_result"
    }
   ],
   "source": [
    "prompt"
   ]
  },
  {
   "cell_type": "code",
   "execution_count": 48,
   "id": "79f39f75",
   "metadata": {},
   "outputs": [
    {
     "data": {
      "text/plain": [
       "\"Page: 2019 Cannes Film Festival\\nSummary: The 72nd annual Cannes Film Festival took place from 14 to 25 May 2019. Mexican filmmaker Alejandro González Iñárritu served as jury president. The Palme d'Or went to the South Korean film Parasite, directed by Bong Joon-ho; Bong became the first Korean director to win the award.American film director Jim Jarmusch's ensemble zombie comedy film The Dead Don't Die served as the opening film of the festival. The festival honoured French filmmaker Agnès Varda, who died in March 2019, featuring her on the official poster of the festival. The photograph used was taken during the filming of her debut film La Pointe Courte (1955), which later screened at the Cannes Film Festival.\\n\\nPage: Jeanne du Barry (film)\\nSummary: Jeanne du Barry is an upcoming French biographical drama film written and directed by Maïwenn and starring Johnny Depp, Maïwenn, Pierre Richard, and Noémie Lvovsky. The film is set to have its world premiere as the opening film at the 2023 Cannes Film Festival on May 16, 2023, being theatrically released in France on the same day by Le Pacte, before its streaming release 15 months afterwards on Netflix in France.\\n\\n\\n\\nPage: Elvis (2022 film)\\nSummary: Elvis is a 2022 biographical drama film directed by Baz Luhrmann from a screenplay he co-wrote with Sam Bromell, Craig Pearce, and Jeremy Doner. It chronicles the life of the American rock and roll singer and actor Elvis Presley under the management of Colonel Tom Parker. The film stars Austin Butler and Tom Hanks as Presley and Parker, respectively, with Olivia DeJonge, Helen Thomson, Richard Roxburgh, David Wenham, Kodi Smit-McPhee, and Luke Bracey in supporting roles.\\nA biographical film about Elvis was first announced in \\n2014, with Luhrmann set to direct, but the project languished in development hell until early-2019, when Hanks joined the film. Butler was cast in the title role that July, beating out several other actors including Miles Teller and Harry Styles. Filming began in Australia in January 2020 but was put on hiatus in March after Hanks tested positive for COVID-19 at the onset of the pandemic. Production resumed in September, wrapping in March 2021.\\nElvis premiered at the Cannes Film Festival on May 25, 2022, and was released in Australia on June 23 and in the United States on June 24, by Warner Bros. Pictures. The film was a commercial success, grossing $288 million worldwide on an $85 million budget. It received generally positive reviews from critics; Butler's performance garnered widespread acclaim, Luhrmann's direction, the cinematography, costume design, production design, and musical sequences also received praise, though the script, Hanks's performance and the runtime drew polarized responses. The film was named one of the ten best best films of 2022 by the American Film Institute and captured eight nominations at the 95th Academy Awards, including Best Picture and Best Actor for Butler, among numerous other accolades. A stage adaptation, with Luhrmann attached as a producer, is in development.\\n\\n\""
      ]
     },
     "execution_count": 48,
     "metadata": {},
     "output_type": "execute_result"
    }
   ],
   "source": [
    "wikipedia.run(query)"
   ]
  },
  {
   "cell_type": "code",
   "execution_count": 52,
   "id": "83b345b9",
   "metadata": {},
   "outputs": [],
   "source": [
    "serper_key=\"df53c1c7f352d12fc2781b46ee2281b249beaa75\""
   ]
  },
  {
   "cell_type": "code",
   "execution_count": 53,
   "id": "1ea42b01",
   "metadata": {},
   "outputs": [],
   "source": [
    "import http.client\n",
    "import json\n",
    "\n",
    "def serper_call(query):\n",
    "    conn = http.client.HTTPSConnection(\"google.serper.dev\")\n",
    "    payload = json.dumps({\n",
    "      \"q\": query,\n",
    "      \"gl\": \"fr\"\n",
    "    })\n",
    "    headers = {\n",
    "      'X-API-KEY': 'df53c1c7f352d12fc2781b46ee2281b249beaa75',\n",
    "      'Content-Type': 'application/json'\n",
    "    }\n",
    "    conn.request(\"POST\", \"/search\", payload, headers)\n",
    "    res = conn.getresponse()\n",
    "    data = res.read()\n",
    "    return data.decode(\"utf-8\")\n",
    "\n",
    "\n",
    "response= serper_call(query)\n"
   ]
  },
  {
   "cell_type": "code",
   "execution_count": 54,
   "id": "cb6f31dc",
   "metadata": {},
   "outputs": [
    {
     "name": "stdout",
     "output_type": "stream",
     "text": [
      "\"{\\\"searchParameters\\\":{\\\"q\\\":\\\"who will open the cannes film festival 2023\\\",\\\"gl\\\":\\\"fr\\\",\\\"type\\\":\\\"search\\\"},\\\"answerBox\\\":{\\\"title\\\":\\\"Palace of Festivals and Congresses of Cannes2023 Cannes Film Festival / Location\\\",\\\"answer\\\":\\\"Palace of Festivals and Congresses of Cannes\\\"},\\\"organic\\\":[{\\\"title\\\":\\\"Festival de Cannes - International film festival for more than 75 years\\\",\\\"link\\\":\\\"https://www.festival-cannes.com/en/\\\",\\\"snippet\\\":\\\"Jeanne du Barry, directed by Ma\\u00efwenn, starring Johnny Depp, will open the 76th Festival de Cannes and will be screened in world premiere.\\\",\\\"sitelinks\\\":[{\\\"title\\\":\\\"Accreditation\\\",\\\"link\\\":\\\"https://www.festival-cannes.com/en/press/accreditation/\\\"},{\\\"title\\\":\\\"Cannes 2023: accreditations...\\\",\\\"link\\\":\\\"https://www.festival-cannes.com/en/press/press-releases/cannes-2023-accreditations-are-open/\\\"},{\\\"title\\\":\\\"Festival de Cannes 2014\\\",\\\"link\\\":\\\"https://www.festival-cannes.com/en/medialibrary/festival-de-cannes-2014-trailer/\\\"},{\\\"title\\\":\\\"Contact\\\",\\\"link\\\":\\\"https://www.festival-cannes.com/en/contact/\\\"}],\\\"position\\\":1},{\\\"title\\\":\\\"The films of the Official Selection 2023 - Festival de Cannes\\\",\\\"link\\\":\\\"https://www.festival-cannes.com/en/press/press-releases/the-films-of-the-official-selection-2023/\\\",\\\"snippet\\\":\\\"Ma\\u00efwenn's Jeanne du Barry to open the 76th Festival de Cannes The world premiere of Jeanne du Barry, directed by Ma\\u00efwenn and starring Johnny ...\\\",\\\"date\\\":\\\"1 day ago\\\",\\\"position\\\":2},{\\\"title\\\":\\\"Cannes Film Festival 2023 Lineup Sets 'The Idol,' Kore-eda - Vulture\\\",\\\"link\\\":\\\"https://www.vulture.com/2023/04/cannes-film-festival-2023-lineup.html\\\",\\\"snippet\\\":\\\"Johnny Depp's new film, 'Jeanne du Barry,' will open the 76th Festival de Cannes on May 16 at the Grand Th\\u00e9\\u00e2tre Lumi\\u00e8re.\\\",\\\"date\\\":\\\"1 day ago\\\",\\\"position\\\":3},{\\\"title\\\":\\\"2023 Cannes Film Festival - Wikipedia\\\",\\\"link\\\":\\\"https://en.wikipedia.org/wiki/2023_Cannes_Film_Festival\\\",\\\"snippet\\\":\\\"The 76th annual Cannes Film Festival is an upcoming film festival due to take place from 16 to 27 May 2023. 2023 Cannes Film Festival. Opening film, Jeanne ...\\\",\\\"attributes\\\":{\\\"Opening film\\\":\\\"Jeanne du Barry by Ma\\u00efwenn\\\",\\\"Festival date\\\":\\\"16\\u201327 May 2023\\\",\\\"Location\\\":\\\"Cannes, France\\\",\\\"Awards\\\":\\\"Palme d'Or\\\"},\\\"sitelinks\\\":[{\\\"title\\\":\\\"Official selection\\\",\\\"link\\\":\\\"https://en.wikipedia.org/wiki/2023_Cannes_Film_Festival#Official_selection\\\"},{\\\"title\\\":\\\"In competition\\\",\\\"link\\\":\\\"https://en.wikipedia.org/wiki/2023_Cannes_Film_Festival#In_competition\\\"},{\\\"title\\\":\\\"Un Certain Regard\\\",\\\"link\\\":\\\"https://en.wikipedia.org/wiki/2023_Cannes_Film_Festival#Un_Certain_Regard\\\"}],\\\"position\\\":4},{\\\"title\\\":\\\"Cannes Festival 2023: the Official Selection - Sortiraparis.com\\\",\\\"link\\\":\\\"https://www.sortiraparis.com/en/what-to-do-in-paris/cinema-series/articles/219525-cannes-festival-2023-the-official-selection\\\",\\\"snippet\\\":\\\"The Cannes Film Festival is back for a 76th edition from May 16 to 27, 2023! This Thursday, April 13th took place the long awaited press ...\\\",\\\"date\\\":\\\"5 hours ago\\\",\\\"position\\\":5},{\\\"title\\\":\\\"Cannes Goes Back to the Future With Wes Anderson, Hirokazu Kore-eda, Ken Loach, Todd Haynes in Competition - The Hollywood Reporter\\\",\\\"link\\\":\\\"https://www.hollywoodreporter.com/movies/movie-news/cannes-film-festival-2023-lineup-1235370980/\\\",\\\"snippet\\\":\\\"The 2023 Cannes Film Festival runs May 16-27. The full lineup of the 76th Cannes Film Festival is below. COMPETITION Club Zero, Jessica Hausner\\\",\\\"date\\\":\\\"1 day ago\\\",\\\"position\\\":6},{\\\"title\\\":\\\"Cannes Film Festival 2023: The official selection\\\",\\\"link\\\":\\\"https://www.vogue.fr/fashion-culture/article/cannes-film-festival-jury-selection-movies-awards-cinema-2023\\\",\\\"snippet\\\":\\\"Ma\\u00efwenn's film Jeanne du Barry has been selected to open the 76th Cannes Film Festival. \\u00b7 new film with Leonardo DiCaprio and Robert De Niro will ...\\\",\\\"date\\\":\\\"1 day ago\\\",\\\"position\\\":7},{\\\"title\\\":\\\"Cannes Film Festival 2023 - Cornucopia Events\\\",\\\"link\\\":\\\"https://www.cornucopia-events.co.uk/cannesfilmfestival/\\\",\\\"snippet\\\":\\\"American film director Jim Jarmusch's ensemble zombie comedy film \\u201cThe Dead Don't Die\\u201d will serve as the opening film of the festival with stars as Adam Driver, ...\\\",\\\"position\\\":8},{\\\"title\\\":\\\"How To Watch The 2023 Cannes Film Festival Lineup Announcement Livestream\\\",\\\"link\\\":\\\"https://deadline.com/2023/04/how-to-watch-2023-cannes-film-festival-lineup-announcement-livestream-1235323506/\\\",\\\"snippet\\\":\\\"This year's festival will run from May 16-27, and we already have our opening film: Johnny Depp's comeback movie Jeanne du Barry. Directed by ...\\\",\\\"date\\\":\\\"1 day ago\\\",\\\"position\\\":9}],\\\"peopleAlsoAsk\\\":[{\\\"question\\\":\\\"Who can enter Cannes Film Festival?\\\",\\\"snippet\\\":\\\"The Festival de Cannes is reserved primarily for film industry professionals.\\\\nEvery participant must be granted accreditation to take part in the Festival.\\\\nProfessional accreditations are granted by professional category.\\\",\\\"title\\\":\\\"Accreditations - Festival de Cannes 2023\\\",\\\"link\\\":\\\"https://festival-cannes.com/en/participer/accredit\\\"},{\\\"question\\\":\\\"Where is the 2023 Cannes Film Festival?\\\",\\\"snippet\\\":\\\"Palace of Festivals and Congresses of Cannes\\\\n2023 Cannes Film Festival / Location\\\",\\\"title\\\":\\\"\\\"},{\\\"question\\\":\\\"When was Cannes Film Festival 2023?\\\",\\\"snippet\\\":\\\"Tue, May 16, 2023 \\u2013 Sat, May 27, 2023\\\\n2023 Cannes Film Festival / Dates\\\",\\\"title\\\":\\\"\\\"},{\\\"question\\\":\\\"How much does it cost to submit a film to Cannes?\\\",\\\"snippet\\\":\\\"The amount of the fee is 25 euros (without taxes). VAT applies accordingly to\\\\nthe category of your company.\\\",\\\"title\\\":\\\"2022 Short films submission requirements - Semaine de la Critique\\\",\\\"link\\\":\\\"https://www.semainedelacritique.com/en/short-films-submission-requirements-2022\\\"},{\\\"question\\\":\\\"Can you visit Cannes during film festival?\\\",\\\"snippet\\\":\\\"It is free to visit the red carpet at the Film Festival Hall. In order to get a\\\\ngood view, plan to arrive at least two hours before the event. Another popular\\\\nspot for celebrity sightings is at the Ritz Carlton Hotel. There are cafes\\\\nlocated throughout Cannes.\\\",\\\"title\\\":\\\"Joining the Paparazzi during the Cannes Film Festival - Earth Trekkers\\\",\\\"link\\\":\\\"https://www.earthtrekkers.com/cannes-film-festival/\\\"}],\\\"relatedSearches\\\":[{\\\"query\\\":\\\"Cannes Official Selection 2023\\\"},{\\\"query\\\":\\\"Venice Film Festival\\\"}]}\"\n"
     ]
    }
   ],
   "source": [
    "print(json.dumps(response))"
   ]
  },
  {
   "cell_type": "code",
   "execution_count": 55,
   "id": "bd3a824b",
   "metadata": {},
   "outputs": [
    {
     "data": {
      "text/plain": [
       "{'searchParameters': {'q': 'who will open the cannes film festival 2023',\n",
       "  'gl': 'fr',\n",
       "  'type': 'search'},\n",
       " 'answerBox': {'title': 'Palace of Festivals and Congresses of Cannes2023 Cannes Film Festival / Location',\n",
       "  'answer': 'Palace of Festivals and Congresses of Cannes'},\n",
       " 'organic': [{'title': 'Festival de Cannes - International film festival for more than 75 years',\n",
       "   'link': 'https://www.festival-cannes.com/en/',\n",
       "   'snippet': 'Jeanne du Barry, directed by Maïwenn, starring Johnny Depp, will open the 76th Festival de Cannes and will be screened in world premiere.',\n",
       "   'sitelinks': [{'title': 'Accreditation',\n",
       "     'link': 'https://www.festival-cannes.com/en/press/accreditation/'},\n",
       "    {'title': 'Cannes 2023: accreditations...',\n",
       "     'link': 'https://www.festival-cannes.com/en/press/press-releases/cannes-2023-accreditations-are-open/'},\n",
       "    {'title': 'Festival de Cannes 2014',\n",
       "     'link': 'https://www.festival-cannes.com/en/medialibrary/festival-de-cannes-2014-trailer/'},\n",
       "    {'title': 'Contact',\n",
       "     'link': 'https://www.festival-cannes.com/en/contact/'}],\n",
       "   'position': 1},\n",
       "  {'title': 'The films of the Official Selection 2023 - Festival de Cannes',\n",
       "   'link': 'https://www.festival-cannes.com/en/press/press-releases/the-films-of-the-official-selection-2023/',\n",
       "   'snippet': \"Maïwenn's Jeanne du Barry to open the 76th Festival de Cannes The world premiere of Jeanne du Barry, directed by Maïwenn and starring Johnny ...\",\n",
       "   'date': '1 day ago',\n",
       "   'position': 2},\n",
       "  {'title': \"Cannes Film Festival 2023 Lineup Sets 'The Idol,' Kore-eda - Vulture\",\n",
       "   'link': 'https://www.vulture.com/2023/04/cannes-film-festival-2023-lineup.html',\n",
       "   'snippet': \"Johnny Depp's new film, 'Jeanne du Barry,' will open the 76th Festival de Cannes on May 16 at the Grand Théâtre Lumière.\",\n",
       "   'date': '1 day ago',\n",
       "   'position': 3},\n",
       "  {'title': '2023 Cannes Film Festival - Wikipedia',\n",
       "   'link': 'https://en.wikipedia.org/wiki/2023_Cannes_Film_Festival',\n",
       "   'snippet': 'The 76th annual Cannes Film Festival is an upcoming film festival due to take place from 16 to 27 May 2023. 2023 Cannes Film Festival. Opening film, Jeanne ...',\n",
       "   'attributes': {'Opening film': 'Jeanne du Barry by Maïwenn',\n",
       "    'Festival date': '16–27 May 2023',\n",
       "    'Location': 'Cannes, France',\n",
       "    'Awards': \"Palme d'Or\"},\n",
       "   'sitelinks': [{'title': 'Official selection',\n",
       "     'link': 'https://en.wikipedia.org/wiki/2023_Cannes_Film_Festival#Official_selection'},\n",
       "    {'title': 'In competition',\n",
       "     'link': 'https://en.wikipedia.org/wiki/2023_Cannes_Film_Festival#In_competition'},\n",
       "    {'title': 'Un Certain Regard',\n",
       "     'link': 'https://en.wikipedia.org/wiki/2023_Cannes_Film_Festival#Un_Certain_Regard'}],\n",
       "   'position': 4},\n",
       "  {'title': 'Cannes Festival 2023: the Official Selection - Sortiraparis.com',\n",
       "   'link': 'https://www.sortiraparis.com/en/what-to-do-in-paris/cinema-series/articles/219525-cannes-festival-2023-the-official-selection',\n",
       "   'snippet': 'The Cannes Film Festival is back for a 76th edition from May 16 to 27, 2023! This Thursday, April 13th took place the long awaited press ...',\n",
       "   'date': '5 hours ago',\n",
       "   'position': 5},\n",
       "  {'title': 'Cannes Goes Back to the Future With Wes Anderson, Hirokazu Kore-eda, Ken Loach, Todd Haynes in Competition - The Hollywood Reporter',\n",
       "   'link': 'https://www.hollywoodreporter.com/movies/movie-news/cannes-film-festival-2023-lineup-1235370980/',\n",
       "   'snippet': 'The 2023 Cannes Film Festival runs May 16-27. The full lineup of the 76th Cannes Film Festival is below. COMPETITION Club Zero, Jessica Hausner',\n",
       "   'date': '1 day ago',\n",
       "   'position': 6},\n",
       "  {'title': 'Cannes Film Festival 2023: The official selection',\n",
       "   'link': 'https://www.vogue.fr/fashion-culture/article/cannes-film-festival-jury-selection-movies-awards-cinema-2023',\n",
       "   'snippet': \"Maïwenn's film Jeanne du Barry has been selected to open the 76th Cannes Film Festival. · new film with Leonardo DiCaprio and Robert De Niro will ...\",\n",
       "   'date': '1 day ago',\n",
       "   'position': 7},\n",
       "  {'title': 'Cannes Film Festival 2023 - Cornucopia Events',\n",
       "   'link': 'https://www.cornucopia-events.co.uk/cannesfilmfestival/',\n",
       "   'snippet': \"American film director Jim Jarmusch's ensemble zombie comedy film “The Dead Don't Die” will serve as the opening film of the festival with stars as Adam Driver, ...\",\n",
       "   'position': 8},\n",
       "  {'title': 'How To Watch The 2023 Cannes Film Festival Lineup Announcement Livestream',\n",
       "   'link': 'https://deadline.com/2023/04/how-to-watch-2023-cannes-film-festival-lineup-announcement-livestream-1235323506/',\n",
       "   'snippet': \"This year's festival will run from May 16-27, and we already have our opening film: Johnny Depp's comeback movie Jeanne du Barry. Directed by ...\",\n",
       "   'date': '1 day ago',\n",
       "   'position': 9}],\n",
       " 'peopleAlsoAsk': [{'question': 'Who can enter Cannes Film Festival?',\n",
       "   'snippet': 'The Festival de Cannes is reserved primarily for film industry professionals.\\nEvery participant must be granted accreditation to take part in the Festival.\\nProfessional accreditations are granted by professional category.',\n",
       "   'title': 'Accreditations - Festival de Cannes 2023',\n",
       "   'link': 'https://festival-cannes.com/en/participer/accredit'},\n",
       "  {'question': 'Where is the 2023 Cannes Film Festival?',\n",
       "   'snippet': 'Palace of Festivals and Congresses of Cannes\\n2023 Cannes Film Festival / Location',\n",
       "   'title': ''},\n",
       "  {'question': 'When was Cannes Film Festival 2023?',\n",
       "   'snippet': 'Tue, May 16, 2023 – Sat, May 27, 2023\\n2023 Cannes Film Festival / Dates',\n",
       "   'title': ''},\n",
       "  {'question': 'How much does it cost to submit a film to Cannes?',\n",
       "   'snippet': 'The amount of the fee is 25 euros (without taxes). VAT applies accordingly to\\nthe category of your company.',\n",
       "   'title': '2022 Short films submission requirements - Semaine de la Critique',\n",
       "   'link': 'https://www.semainedelacritique.com/en/short-films-submission-requirements-2022'},\n",
       "  {'question': 'Can you visit Cannes during film festival?',\n",
       "   'snippet': 'It is free to visit the red carpet at the Film Festival Hall. In order to get a\\ngood view, plan to arrive at least two hours before the event. Another popular\\nspot for celebrity sightings is at the Ritz Carlton Hotel. There are cafes\\nlocated throughout Cannes.',\n",
       "   'title': 'Joining the Paparazzi during the Cannes Film Festival - Earth Trekkers',\n",
       "   'link': 'https://www.earthtrekkers.com/cannes-film-festival/'}],\n",
       " 'relatedSearches': [{'query': 'Cannes Official Selection 2023'},\n",
       "  {'query': 'Venice Film Festival'}]}"
      ]
     },
     "execution_count": 55,
     "metadata": {},
     "output_type": "execute_result"
    }
   ],
   "source": [
    "import json\n",
    "response=json.loads(response)\n",
    "response"
   ]
  },
  {
   "cell_type": "code",
   "execution_count": 56,
   "id": "d0a6e438",
   "metadata": {},
   "outputs": [],
   "source": [
    "context=''\n",
    "\n",
    "for i in range(9):\n",
    "    context=context+'\\n\\n'+response['organic'][i]['snippet']"
   ]
  },
  {
   "cell_type": "code",
   "execution_count": 57,
   "id": "057e9046",
   "metadata": {},
   "outputs": [
    {
     "data": {
      "text/plain": [
       "'who will open the cannes film festival 2023'"
      ]
     },
     "execution_count": 57,
     "metadata": {},
     "output_type": "execute_result"
    }
   ],
   "source": [
    "prompt0=\"who will open the cannes film festival 2023\"\n",
    "prompt0"
   ]
  },
  {
   "cell_type": "code",
   "execution_count": 58,
   "id": "03ec39e6",
   "metadata": {},
   "outputs": [
    {
     "name": "stdout",
     "output_type": "stream",
     "text": [
      "\n",
      "\n",
      "Jeanne du Barry, directed by Maïwenn, starring Johnny Depp, will open the 76th Festival de Cannes and will be screened in world premiere.\n",
      "\n",
      "Maïwenn's Jeanne du Barry to open the 76th Festival de Cannes The world premiere of Jeanne du Barry, directed by Maïwenn and starring Johnny ...\n",
      "\n",
      "Johnny Depp's new film, 'Jeanne du Barry,' will open the 76th Festival de Cannes on May 16 at the Grand Théâtre Lumière.\n",
      "\n",
      "The 76th annual Cannes Film Festival is an upcoming film festival due to take place from 16 to 27 May 2023. 2023 Cannes Film Festival. Opening film, Jeanne ...\n",
      "\n",
      "The Cannes Film Festival is back for a 76th edition from May 16 to 27, 2023! This Thursday, April 13th took place the long awaited press ...\n",
      "\n",
      "The 2023 Cannes Film Festival runs May 16-27. The full lineup of the 76th Cannes Film Festival is below. COMPETITION Club Zero, Jessica Hausner\n",
      "\n",
      "Maïwenn's film Jeanne du Barry has been selected to open the 76th Cannes Film Festival. · new film with Leonardo DiCaprio and Robert De Niro will ...\n",
      "\n",
      "American film director Jim Jarmusch's ensemble zombie comedy film “The Dead Don't Die” will serve as the opening film of the festival with stars as Adam Driver, ...\n",
      "\n",
      "This year's festival will run from May 16-27, and we already have our opening film: Johnny Depp's comeback movie Jeanne du Barry. Directed by ...\n"
     ]
    }
   ],
   "source": [
    "print(context)"
   ]
  },
  {
   "cell_type": "code",
   "execution_count": 62,
   "id": "1d8d1a00",
   "metadata": {},
   "outputs": [],
   "source": [
    "def prompt_from_context(prompt, context):\n",
    "    return(\n",
    "        \"Answer the question based on the context below.\\n\\n\"+\n",
    "        \"Return a rich paragraph with cinema context.\\n\\n\"+\n",
    "        \"Context:\\n\\n\"+\n",
    "        context +\n",
    "        f\"\\n\\nQuestion: {query}\\nAnswer:\"\n",
    ")"
   ]
  },
  {
   "cell_type": "code",
   "execution_count": 63,
   "id": "56da320b",
   "metadata": {},
   "outputs": [
    {
     "data": {
      "text/plain": [
       "\"Answer the question based on the context below.\\n\\nReturn a rich paragraph with cinema context.\\n\\nContext:\\n\\n\\n\\nJeanne du Barry, directed by Maïwenn, starring Johnny Depp, will open the 76th Festival de Cannes and will be screened in world premiere.\\n\\nMaïwenn's Jeanne du Barry to open the 76th Festival de Cannes The world premiere of Jeanne du Barry, directed by Maïwenn and starring Johnny ...\\n\\nJohnny Depp's new film, 'Jeanne du Barry,' will open the 76th Festival de Cannes on May 16 at the Grand Théâtre Lumière.\\n\\nThe 76th annual Cannes Film Festival is an upcoming film festival due to take place from 16 to 27 May 2023. 2023 Cannes Film Festival. Opening film, Jeanne ...\\n\\nThe Cannes Film Festival is back for a 76th edition from May 16 to 27, 2023! This Thursday, April 13th took place the long awaited press ...\\n\\nThe 2023 Cannes Film Festival runs May 16-27. The full lineup of the 76th Cannes Film Festival is below. COMPETITION Club Zero, Jessica Hausner\\n\\nMaïwenn's film Jeanne du Barry has been selected to open the 76th Cannes Film Festival. · new film with Leonardo DiCaprio and Robert De Niro will ...\\n\\nAmerican film director Jim Jarmusch's ensemble zombie comedy film “The Dead Don't Die” will serve as the opening film of the festival with stars as Adam Driver, ...\\n\\nThis year's festival will run from May 16-27, and we already have our opening film: Johnny Depp's comeback movie Jeanne du Barry. Directed by ...\\n\\nQuestion: who will open the cannes film festival 2023\\nAnswer:\""
      ]
     },
     "execution_count": 63,
     "metadata": {},
     "output_type": "execute_result"
    }
   ],
   "source": [
    "prompt_from_context(prompt,context)"
   ]
  },
  {
   "cell_type": "code",
   "execution_count": 64,
   "id": "b0444ceb",
   "metadata": {
    "scrolled": true
   },
   "outputs": [
    {
     "data": {
      "text/plain": [
       "\"Maïwenn's film Jeanne du Barry has been selected to open the 76th Cannes Film Festival.\""
      ]
     },
     "execution_count": 64,
     "metadata": {},
     "output_type": "execute_result"
    }
   ],
   "source": [
    "complete(prompt_from_context(prompt0, context))"
   ]
  },
  {
   "cell_type": "code",
   "execution_count": 96,
   "id": "af824fd5",
   "metadata": {},
   "outputs": [
    {
     "data": {
      "text/plain": [
       "<OpenAIObject chat.completion id=chatcmpl-74YNaGk3SF5T1D9sN0aUfKU8ZEnmK at 0x134137ae0> JSON: {\n",
       "  \"choices\": [\n",
       "    {\n",
       "      \"finish_reason\": \"stop\",\n",
       "      \"index\": 0,\n",
       "      \"message\": {\n",
       "        \"content\": \"The context does not provide information about who will open the Cannes Film Festival in 2023.\",\n",
       "        \"role\": \"assistant\"\n",
       "      }\n",
       "    }\n",
       "  ],\n",
       "  \"created\": 1681319822,\n",
       "  \"id\": \"chatcmpl-74YNaGk3SF5T1D9sN0aUfKU8ZEnmK\",\n",
       "  \"model\": \"gpt-3.5-turbo-0301\",\n",
       "  \"object\": \"chat.completion\",\n",
       "  \"usage\": {\n",
       "    \"completion_tokens\": 19,\n",
       "    \"prompt_tokens\": 378,\n",
       "    \"total_tokens\": 397\n",
       "  }\n",
       "}"
      ]
     },
     "execution_count": 96,
     "metadata": {},
     "output_type": "execute_result"
    }
   ],
   "source": [
    "import openai\n",
    "content1=\"Jeanne du Barry, directed by Maïwenn, starring Johnny Depp, will open the 76th Festival de Cannes and will be screened in world premiere.\"\n",
    "content2=\"Johnny Depp's new film, 'Jeanne du Barry,' will open the 76th Festival de Cannes on May 16 at the Grand Théâtre Lumière.\"\n",
    "openai.ChatCompletion.create(\n",
    "  model=\"gpt-3.5-turbo\",\n",
    "  messages=[\n",
    "        {\"role\": \"user\", \"content\": prompt_from_context(prompt, context)},\n",
    "        {\"role\": \"user\", \"content\": \"who will open cannes festival 2023\"}\n",
    "      \n",
    "    ]\n",
    ")\n"
   ]
  },
  {
   "cell_type": "code",
   "execution_count": 5,
   "id": "a9a42fad",
   "metadata": {},
   "outputs": [],
   "source": [
    "import openai\n",
    "import os"
   ]
  },
  {
   "cell_type": "code",
   "execution_count": 17,
   "id": "942e7404",
   "metadata": {},
   "outputs": [],
   "source": [
    "openai.api_key = os.getenv(\"CHATGPT_API_KEY\")\n",
    "response=openai.Completion.create(\n",
    "    model=\"text-davinci-003\",\n",
    "    prompt=\"Say this is a test\",\n",
    "    max_tokens=20,\n",
    "    temperature=0,\n",
    "    logprobs=5)\n"
   ]
  },
  {
   "cell_type": "code",
   "execution_count": 18,
   "id": "0312d780",
   "metadata": {},
   "outputs": [
    {
     "data": {
      "text/plain": [
       "[<OpenAIObject at 0x12d1c5e00> JSON: {\n",
       "   \"finish_reason\": \"stop\",\n",
       "   \"index\": 0,\n",
       "   \"logprobs\": {\n",
       "     \"text_offset\": [\n",
       "       18,\n",
       "       19,\n",
       "       20,\n",
       "       24,\n",
       "       27,\n",
       "       34,\n",
       "       36,\n",
       "       41\n",
       "     ],\n",
       "     \"token_logprobs\": [\n",
       "       -0.055400018,\n",
       "       -0.01688751,\n",
       "       -0.56381756,\n",
       "       -0.04710051,\n",
       "       -0.028700087,\n",
       "       -0.00021813008,\n",
       "       -0.00011261161,\n",
       "       -0.25237733\n",
       "     ],\n",
       "     \"tokens\": [\n",
       "       \"\\n\",\n",
       "       \"\\n\",\n",
       "       \"This\",\n",
       "       \" is\",\n",
       "       \" indeed\",\n",
       "       \" a\",\n",
       "       \" test\",\n",
       "       \".\"\n",
       "     ],\n",
       "     \"top_logprobs\": [\n",
       "       {\n",
       "         \"\\n\": -0.055400018,\n",
       "         \" of\": -5.339374,\n",
       "         \" sentence\": -5.885321,\n",
       "         \".\": -4.5148964,\n",
       "         \":\": -6.018075\n",
       "       },\n",
       "       {\n",
       "         \"\\n\": -0.01688751,\n",
       "         \" \\u00a7\\u00a7\": -8.168148,\n",
       "         \"Say\": -4.684549,\n",
       "         \"This\": -5.6186986,\n",
       "         \"``\": -7.881186\n",
       "       },\n",
       "       {\n",
       "         \"Hello\": -5.546994,\n",
       "         \"I\": -5.4287076,\n",
       "         \"OK\": -5.098456,\n",
       "         \"This\": -0.56381756,\n",
       "         \"Yes\": -0.9261243\n",
       "       },\n",
       "       {\n",
       "         \" appears\": -4.770081,\n",
       "         \" does\": -5.9078164,\n",
       "         \" indeed\": -3.6204875,\n",
       "         \" is\": -0.04710051,\n",
       "         \" statement\": -5.9530563\n",
       "       },\n",
       "       {\n",
       "         \" a\": -3.7177086,\n",
       "         \" an\": -7.4702044,\n",
       "         \" definitely\": -7.2629495,\n",
       "         \" indeed\": -0.028700087,\n",
       "         \",\": -6.447929\n",
       "       },\n",
       "       {\n",
       "         \" \": -9.940408,\n",
       "         \" a\": -0.00021813008,\n",
       "         \" an\": -9.881229,\n",
       "         \" just\": -9.756098,\n",
       "         \",\": -10.497805\n",
       "       },\n",
       "       {\n",
       "         \" \": -9.7485485,\n",
       "         \" t\": -11.431841,\n",
       "         \" test\": -0.00011261161,\n",
       "         \" testing\": -11.207458,\n",
       "         \" very\": -11.595131\n",
       "       },\n",
       "       {\n",
       "         \" and\": -9.184487,\n",
       "         \"!\": -1.5067985,\n",
       "         \",\": -7.663447,\n",
       "         \".\": -0.25237733,\n",
       "         \"<|endoftext|>\": -7.4451947\n",
       "       }\n",
       "     ]\n",
       "   },\n",
       "   \"text\": \"\\n\\nThis is indeed a test.\"\n",
       " }]"
      ]
     },
     "execution_count": 18,
     "metadata": {},
     "output_type": "execute_result"
    }
   ],
   "source": [
    "response['choices']"
   ]
  }
 ],
 "metadata": {
  "kernelspec": {
   "display_name": "Python 3 (ipykernel)",
   "language": "python",
   "name": "python3"
  },
  "language_info": {
   "codemirror_mode": {
    "name": "ipython",
    "version": 3
   },
   "file_extension": ".py",
   "mimetype": "text/x-python",
   "name": "python",
   "nbconvert_exporter": "python",
   "pygments_lexer": "ipython3",
   "version": "3.8.13"
  },
  "toc": {
   "base_numbering": 1,
   "nav_menu": {},
   "number_sections": true,
   "sideBar": true,
   "skip_h1_title": false,
   "title_cell": "Table of Contents",
   "title_sidebar": "Contents",
   "toc_cell": false,
   "toc_position": {},
   "toc_section_display": true,
   "toc_window_display": false
  }
 },
 "nbformat": 4,
 "nbformat_minor": 5
}
