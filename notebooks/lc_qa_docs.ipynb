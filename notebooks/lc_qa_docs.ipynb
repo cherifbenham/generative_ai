{
 "cells": [
  {
   "cell_type": "code",
   "execution_count": null,
   "id": "3d385626",
   "metadata": {},
   "outputs": [],
   "source": [
    "!pip install chromadb"
   ]
  },
  {
   "cell_type": "code",
   "execution_count": null,
   "id": "4575cd5d",
   "metadata": {},
   "outputs": [],
   "source": [
    "!pip install langchain"
   ]
  },
  {
   "cell_type": "code",
   "execution_count": 31,
   "id": "0746266e",
   "metadata": {
    "collapsed": true
   },
   "outputs": [
    {
     "name": "stdout",
     "output_type": "stream",
     "text": [
      "Collecting tiktoken\n",
      "  Downloading tiktoken-0.3.3-cp38-cp38-macosx_10_9_x86_64.whl (736 kB)\n",
      "\u001b[2K     \u001b[90m━━━━━━━━━━━━━━━━━━━━━━━━━━━━━━━━━━━━━━━\u001b[0m \u001b[32m736.3/736.3 kB\u001b[0m \u001b[31m9.6 MB/s\u001b[0m eta \u001b[36m0:00:00\u001b[0ma \u001b[36m0:00:01\u001b[0m\n",
      "\u001b[?25hCollecting regex>=2022.1.18\n",
      "  Downloading regex-2023.3.23-cp38-cp38-macosx_10_9_x86_64.whl (294 kB)\n",
      "\u001b[2K     \u001b[90m━━━━━━━━━━━━━━━━━━━━━━━━━━━━━━━━━━━━━━━\u001b[0m \u001b[32m294.5/294.5 kB\u001b[0m \u001b[31m9.3 MB/s\u001b[0m eta \u001b[36m0:00:00\u001b[0m\n",
      "\u001b[?25hRequirement already satisfied: requests>=2.26.0 in /Users/cherifbenham/.pyenv/versions/3.8.13/envs/lewagon/lib/python3.8/site-packages (from tiktoken) (2.28.2)\n",
      "Requirement already satisfied: certifi>=2017.4.17 in /Users/cherifbenham/.pyenv/versions/3.8.13/envs/lewagon/lib/python3.8/site-packages (from requests>=2.26.0->tiktoken) (2022.12.7)\n",
      "Requirement already satisfied: idna<4,>=2.5 in /Users/cherifbenham/.pyenv/versions/3.8.13/envs/lewagon/lib/python3.8/site-packages (from requests>=2.26.0->tiktoken) (3.4)\n",
      "Requirement already satisfied: urllib3<1.27,>=1.21.1 in /Users/cherifbenham/.pyenv/versions/3.8.13/envs/lewagon/lib/python3.8/site-packages (from requests>=2.26.0->tiktoken) (1.26.14)\n",
      "Requirement already satisfied: charset-normalizer<4,>=2 in /Users/cherifbenham/.pyenv/versions/3.8.13/envs/lewagon/lib/python3.8/site-packages (from requests>=2.26.0->tiktoken) (2.1.1)\n",
      "Installing collected packages: regex, tiktoken\n",
      "  Attempting uninstall: regex\n",
      "    Found existing installation: regex 2021.11.10\n",
      "    Uninstalling regex-2021.11.10:\n",
      "      Successfully uninstalled regex-2021.11.10\n",
      "\u001b[31mERROR: pip's dependency resolver does not currently take into account all the packages that are installed. This behaviour is the source of the following dependency conflicts.\n",
      "simpletaxifare 1.0 requires numpy==1.18.5, but you have numpy 1.22.4 which is incompatible.\n",
      "simpletaxifare 1.0 requires six==1.15.0, but you have six 1.16.0 which is incompatible.\n",
      "taxifaremodel 1.0 requires numpy==1.18.5, but you have numpy 1.22.4 which is incompatible.\n",
      "taxifaremodel 1.0 requires six==1.14.0, but you have six 1.16.0 which is incompatible.\u001b[0m\u001b[31m\n",
      "\u001b[0mSuccessfully installed regex-2023.3.23 tiktoken-0.3.3\n"
     ]
    }
   ],
   "source": [
    "!pip install tiktoken"
   ]
  },
  {
   "cell_type": "code",
   "execution_count": 23,
   "id": "32e63039",
   "metadata": {},
   "outputs": [],
   "source": [
    "import time\n",
    "import IPython\n",
    "import langchain\n",
    "import openai\n",
    "import os\n",
    "os.environ[\"OPENAI_API_KEY\"] = os.getenv('CHATGPT_API_KEY')"
   ]
  },
  {
   "cell_type": "code",
   "execution_count": 24,
   "id": "8752f6f5",
   "metadata": {},
   "outputs": [],
   "source": [
    "def time_cell():\n",
    "    start_time = time.time()\n",
    "    IPython.display.display(IPython.display.Javascript('IPython.notebook.execute_cell()'))\n",
    "    end_time = time.time()\n",
    "    elapsed_time = end_time - start_time\n",
    "    print(f'Time elapsed: {elapsed_time:.2f} seconds')"
   ]
  },
  {
   "cell_type": "markdown",
   "id": "9c33170b",
   "metadata": {},
   "source": [
    "# Converting a 60-page PDF file (bloomberg GPT paper) to a text file"
   ]
  },
  {
   "cell_type": "code",
   "execution_count": 25,
   "id": "b1637b6f",
   "metadata": {},
   "outputs": [
    {
     "data": {
      "application/javascript": [
       "IPython.notebook.execute_cell()"
      ],
      "text/plain": [
       "<IPython.core.display.Javascript object>"
      ]
     },
     "metadata": {},
     "output_type": "display_data"
    },
    {
     "name": "stdout",
     "output_type": "stream",
     "text": [
      "Time elapsed: 0.00 seconds\n"
     ]
    }
   ],
   "source": [
    "import PyPDF2\n",
    "\n",
    "# Open the PDF file in read-binary mode\n",
    "with open('2303.17564.pdf', 'rb') as pdf_file:\n",
    "    # Create a PyPDF2 reader object\n",
    "    pdf_reader = PyPDF2.PdfReader(pdf_file)\n",
    "\n",
    "    # Create a list to hold the text from each page\n",
    "    page_text = []\n",
    "\n",
    "    # Iterate through each page in the PDF\n",
    "    for page in range(len(pdf_reader.pages)):\n",
    "        # Extract the text from the page and add it to the list\n",
    "        page_text.append(pdf_reader.pages[page].extract_text())\n",
    "\n",
    "    # Join the text from each page together into a single string\n",
    "    full_text = '\\n'.join(page_text)\n",
    "\n",
    "# Write the text to a new file\n",
    "with open('output_file.txt', 'w') as txt_file:\n",
    "    txt_file.write(full_text)\n",
    "    \n",
    "time_cell()"
   ]
  },
  {
   "cell_type": "markdown",
   "id": "022ecfa4",
   "metadata": {},
   "source": [
    "# Question Answering Using Langchain"
   ]
  },
  {
   "cell_type": "markdown",
   "id": "b770305e",
   "metadata": {},
   "source": [
    "For question answering over many documents, it is suggested to create an index over the data. This can be used to smartly access the most relevant documents for a given question, allowing us to avoid having to pass all the documents to the LLM (saving you time and money)."
   ]
  },
  {
   "cell_type": "markdown",
   "id": "8f953a5c",
   "metadata": {},
   "source": [
    "## Load Document"
   ]
  },
  {
   "cell_type": "code",
   "execution_count": 53,
   "id": "152d218c",
   "metadata": {},
   "outputs": [],
   "source": [
    "from langchain.document_loaders import TextLoader\n",
    "loader = TextLoader('output_file.txt')"
   ]
  },
  {
   "cell_type": "markdown",
   "id": "22c36ca5",
   "metadata": {},
   "source": [
    "## Create Index over the document"
   ]
  },
  {
   "cell_type": "markdown",
   "id": "dfb73e18",
   "metadata": {},
   "source": [
    "The best and most popular index by far at the moment is the VectorStore index.\n",
    "\n"
   ]
  },
  {
   "cell_type": "code",
   "execution_count": 54,
   "id": "cdc264fc",
   "metadata": {},
   "outputs": [
    {
     "name": "stderr",
     "output_type": "stream",
     "text": [
      "Using embedded DuckDB without persistence: data will be transient\n"
     ]
    },
    {
     "data": {
      "application/javascript": [
       "IPython.notebook.execute_cell()"
      ],
      "text/plain": [
       "<IPython.core.display.Javascript object>"
      ]
     },
     "metadata": {},
     "output_type": "display_data"
    },
    {
     "name": "stdout",
     "output_type": "stream",
     "text": [
      "Time elapsed: 0.00 seconds\n"
     ]
    }
   ],
   "source": [
    "from langchain.indexes import VectorstoreIndexCreator\n",
    "index = VectorstoreIndexCreator().from_loaders([loader])\n",
    "time_cell()"
   ]
  },
  {
   "cell_type": "markdown",
   "id": "f927bcc8",
   "metadata": {},
   "source": [
    "## Query my index"
   ]
  },
  {
   "cell_type": "code",
   "execution_count": 77,
   "id": "5d17b4f6",
   "metadata": {},
   "outputs": [
    {
     "data": {
      "text/plain": [
       "{'question': 'how bloomberg gpt data enrichment performed',\n",
       " 'answer': ' BloombergGPT outperformed all other models by a large margin on the BIG-bench Hard dataset, achieving the best performance of all models in date understanding, hyperbaton (ordering of adjectives), and tracking shuffled objects.\\n',\n",
       " 'sources': 'output_file.txt'}"
      ]
     },
     "execution_count": 77,
     "metadata": {},
     "output_type": "execute_result"
    }
   ],
   "source": [
    "query = \"how bloomberg gpt data enrichment performed\"\n",
    "index.query_with_sources(query)"
   ]
  }
 ],
 "metadata": {
  "authors": [
   {
    "name": "Cb"
   }
  ],
  "kernelspec": {
   "display_name": "Python 3 (ipykernel)",
   "language": "python",
   "name": "python3"
  },
  "language_info": {
   "codemirror_mode": {
    "name": "ipython",
    "version": 3
   },
   "file_extension": ".py",
   "mimetype": "text/x-python",
   "name": "python",
   "nbconvert_exporter": "python",
   "pygments_lexer": "ipython3",
   "version": "3.8.13"
  },
  "title": "Summarization using Langchain",
  "toc": {
   "base_numbering": 1,
   "nav_menu": {},
   "number_sections": true,
   "sideBar": true,
   "skip_h1_title": false,
   "title_cell": "Table of Contents",
   "title_sidebar": "Contents",
   "toc_cell": false,
   "toc_position": {},
   "toc_section_display": true,
   "toc_window_display": false
  }
 },
 "nbformat": 4,
 "nbformat_minor": 5
}
