{
 "cells": [
  {
   "cell_type": "code",
   "execution_count": 1,
   "id": "50e6c72b",
   "metadata": {},
   "outputs": [],
   "source": [
    "import time"
   ]
  },
  {
   "cell_type": "code",
   "execution_count": 2,
   "id": "9255bbd6",
   "metadata": {},
   "outputs": [],
   "source": [
    "from embedchain import App"
   ]
  },
  {
   "cell_type": "code",
   "execution_count": 3,
   "id": "789d6a4e",
   "metadata": {},
   "outputs": [],
   "source": [
    "app=App()"
   ]
  },
  {
   "cell_type": "code",
   "execution_count": 4,
   "id": "f6a7c7a7",
   "metadata": {
    "scrolled": true
   },
   "outputs": [
    {
     "data": {
      "text/plain": [
       "{'db_client': <chromadb.api.local.LocalAPI at 0x10cd2eb50>,\n",
       " 'collection': Collection(name=embedchain_store),\n",
       " 'user_asks': []}"
      ]
     },
     "execution_count": 4,
     "metadata": {},
     "output_type": "execute_result"
    }
   ],
   "source": [
    "app.__dict__"
   ]
  },
  {
   "cell_type": "code",
   "execution_count": 5,
   "id": "0a0613a0",
   "metadata": {},
   "outputs": [],
   "source": [
    "url=\"https://www.youtube.com/watch?v=1IBSrxFMecE\""
   ]
  },
  {
   "cell_type": "code",
   "execution_count": 6,
   "id": "ec162680",
   "metadata": {},
   "outputs": [
    {
     "name": "stdout",
     "output_type": "stream",
     "text": [
      "All data from https://www.youtube.com/watch?v=1IBSrxFMecE already exists in the database.\n"
     ]
    }
   ],
   "source": [
    "app.add(\"youtube_video\", url)"
   ]
  },
  {
   "cell_type": "code",
   "execution_count": 7,
   "id": "95a089dc",
   "metadata": {},
   "outputs": [
    {
     "data": {
      "text/plain": [
       "{'db_client': <chromadb.api.local.LocalAPI at 0x10cd2eb50>,\n",
       " 'collection': Collection(name=embedchain_store),\n",
       " 'user_asks': [['youtube_video',\n",
       "   'https://www.youtube.com/watch?v=1IBSrxFMecE']]}"
      ]
     },
     "execution_count": 7,
     "metadata": {},
     "output_type": "execute_result"
    }
   ],
   "source": [
    "app.__dict__"
   ]
  },
  {
   "cell_type": "code",
   "execution_count": 8,
   "id": "5ec4a6d8",
   "metadata": {},
   "outputs": [
    {
     "data": {
      "text/plain": [
       "'The video is about a leaked tape of former President Trump discussing a potentially classified document and making jokes about serious matters such as a potential attack on Iran and Hillary Clinton. The video also discusses the potential legal implications of the tape and seeks the opinion of former U.S. Attorney and Senior FBI Official Chuck Rosenberg.'"
      ]
     },
     "execution_count": 8,
     "metadata": {},
     "output_type": "execute_result"
    }
   ],
   "source": [
    "app.query(\"what is this video about\")"
   ]
  },
  {
   "cell_type": "code",
   "execution_count": 9,
   "id": "5ca01c67",
   "metadata": {},
   "outputs": [],
   "source": [
    "import langchain\n",
    "from langchain.chat_models import ChatOpenAI\n",
    "\n",
    "llm = ChatOpenAI()"
   ]
  },
  {
   "cell_type": "code",
   "execution_count": 10,
   "id": "40298bff",
   "metadata": {},
   "outputs": [
    {
     "name": "stdout",
     "output_type": "stream",
     "text": [
      "CPU times: user 3 µs, sys: 2 µs, total: 5 µs\n",
      "Wall time: 10 µs\n"
     ]
    },
    {
     "data": {
      "text/plain": [
       "'Why did the tomato turn red? Because it saw the salad dressing!'"
      ]
     },
     "execution_count": 10,
     "metadata": {},
     "output_type": "execute_result"
    }
   ],
   "source": [
    "%time\n",
    "\n",
    "from langchain.cache import InMemoryCache\n",
    "langchain.llm_cache = InMemoryCache()\n",
    "\n",
    "# The first time, it is not yet in cache, so it should take longer\n",
    "llm.predict(\"Tell me a joke\")"
   ]
  },
  {
   "cell_type": "code",
   "execution_count": 11,
   "id": "d7ab331d",
   "metadata": {},
   "outputs": [
    {
     "name": "stdout",
     "output_type": "stream",
     "text": [
      "CPU times: user 4 µs, sys: 2 µs, total: 6 µs\n",
      "Wall time: 9.06 µs\n"
     ]
    },
    {
     "data": {
      "text/plain": [
       "'Why did the tomato turn red?\\n\\nBecause it saw the salad dressing!'"
      ]
     },
     "execution_count": 11,
     "metadata": {},
     "output_type": "execute_result"
    }
   ],
   "source": [
    "%time\n",
    "\n",
    "# The second time it is, so it goes faster\n",
    "llm.predict(\"Tell me a joke\")"
   ]
  },
  {
   "cell_type": "code",
   "execution_count": null,
   "id": "95b00e18",
   "metadata": {},
   "outputs": [],
   "source": []
  }
 ],
 "metadata": {
  "kernelspec": {
   "display_name": "Python 3 (ipykernel)",
   "language": "python",
   "name": "python3"
  },
  "language_info": {
   "codemirror_mode": {
    "name": "ipython",
    "version": 3
   },
   "file_extension": ".py",
   "mimetype": "text/x-python",
   "name": "python",
   "nbconvert_exporter": "python",
   "pygments_lexer": "ipython3",
   "version": "3.9.16"
  },
  "toc": {
   "base_numbering": 1,
   "nav_menu": {},
   "number_sections": true,
   "sideBar": true,
   "skip_h1_title": false,
   "title_cell": "Table of Contents",
   "title_sidebar": "Contents",
   "toc_cell": false,
   "toc_position": {},
   "toc_section_display": true,
   "toc_window_display": false
  }
 },
 "nbformat": 4,
 "nbformat_minor": 5
}
