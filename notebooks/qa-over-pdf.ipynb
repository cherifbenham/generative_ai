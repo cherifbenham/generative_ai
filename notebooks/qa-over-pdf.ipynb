{
 "cells": [
  {
   "cell_type": "markdown",
   "id": "43ae6862",
   "metadata": {},
   "source": [
    "# Q&A over PDF using vectorstores"
   ]
  },
  {
   "cell_type": "code",
   "execution_count": 1,
   "id": "4fd19a74",
   "metadata": {},
   "outputs": [],
   "source": [
    "from langchain.document_loaders import UnstructuredFileLoader\n",
    "from langchain.indexes import VectorstoreIndexCreator\n",
    "from langchain.vectorstores import Chroma\n",
    "from langchain.embeddings import OpenAIEmbeddings\n",
    "from langchain.text_splitter import CharacterTextSplitter"
   ]
  },
  {
   "cell_type": "code",
   "execution_count": 2,
   "id": "a4f3e92b",
   "metadata": {},
   "outputs": [],
   "source": [
    "index_creator = VectorstoreIndexCreator(\n",
    "    vectorstore_cls=Chroma, \n",
    "    embedding=OpenAIEmbeddings(),\n",
    "    text_splitter=CharacterTextSplitter(chunk_size=1000, chunk_overlap=0)\n",
    ")"
   ]
  },
  {
   "cell_type": "code",
   "execution_count": 3,
   "id": "0f6a60f9",
   "metadata": {},
   "outputs": [],
   "source": [
    "loader = UnstructuredFileLoader(\"EV0320161ENN.pdf\", strategy=\"fast\", mode=\"elements\")\n",
    "index=index_creator.from_loaders([loader])"
   ]
  },
  {
   "cell_type": "code",
   "execution_count": 29,
   "id": "9dbdda73",
   "metadata": {},
   "outputs": [
    {
     "data": {
      "text/plain": [
       "' The conditions to get an electric car loan in Europe include a longer repayment period, a competitive interest rate, and no origination fees.'"
      ]
     },
     "execution_count": 29,
     "metadata": {},
     "output_type": "execute_result"
    }
   ],
   "source": [
    "query=\"what are the conditions to get an electric car loan in europe\"\n",
    "index.query(query)"
   ]
  },
  {
   "cell_type": "code",
   "execution_count": 11,
   "id": "87b4899c",
   "metadata": {},
   "outputs": [
    {
     "data": {
      "text/plain": [
       "{'question': 'tell me more about Portfolio Temperature Rating Approach',\n",
       " 'answer': ' The Portfolio Temperature Rating Approach is a method used by banks to determine their current portfolio temperature and take actions to align them to long-term temperature goals by engaging with portfolio companies. Banks commit to having a portion of their clients set their own SBTi-approved targets such that the FI is on a linear path to 100% portfolio coverage by 2040. The approach involves measuring GHG emissions per investment and/or loan, calculating the share of borrowers’ and/or investees’ emissions that should be attributed to the bank, and dividing the sum of attributed emissions by the sum of attributed activity data of all investments and/or loans.\\n',\n",
       " 'sources': 'EV0320161ENN.pdf'}"
      ]
     },
     "execution_count": 11,
     "metadata": {},
     "output_type": "execute_result"
    }
   ],
   "source": [
    "query = \"tell me more about Portfolio Temperature Rating Approach\"\n",
    "index.query_with_sources(query)"
   ]
  },
  {
   "cell_type": "markdown",
   "id": "b5566470",
   "metadata": {},
   "source": [
    "# similarity search with scores"
   ]
  },
  {
   "cell_type": "code",
   "execution_count": 21,
   "id": "ce12aab7",
   "metadata": {},
   "outputs": [
    {
     "name": "stderr",
     "output_type": "stream",
     "text": [
      "Using embedded DuckDB without persistence: data will be transient\n",
      "Retrying langchain.embeddings.openai.embed_with_retry.<locals>._embed_with_retry in 4.0 seconds as it raised APIConnectionError: Error communicating with OpenAI: ('Connection aborted.', ConnectionResetError(54, 'Connection reset by peer')).\n"
     ]
    },
    {
     "data": {
      "text/plain": [
       "[(Document(page_content='77  \\nMonitoring  Monitor portfolio evolution and alignment through use of a specific \\ndashboard  \\nEach of these steps requires specific decisions to be taken. For instance, when setting \\ntargets there are different approaches that can be followed. As illustrated in the Science -\\nbased target initiative report162, potential approaches to be adopted by banks  include:  \\ni. Sectoral Decarbonization Approach (SDA);  \\nii. SBT Portfolio Coverage Approach;  \\niii. Portfolio Temperature Rating Approach.  \\nAn overview is provided in the summary below, with a deep dive on SDA approach for \\ncalculating physical emissions intensity.  \\n \\nSource: SBTi and BlackRock FMA analysis  \\nTransition risk and physical risk measurement exercises help banks assess the financial \\nmateriality of climate -related risks, while pathway alignment or net zero approaches \\ncapture the environmental and social materiality perspective. Transition risk and p hysical \\nrisk exercises seek to measure the impact of climate change on, for example, credit risk and \\nvaluation metrics, and hence are relevant from a financial materiality viewpoint. Pathway \\nalignment and net zero exercises are carried out from an environmental and social materiality \\nperspective, which is most relevant for reputational and strategic risk. These exercises should \\nbe performed regularly, in particular where public commitments are in place.  \\nExercises can be conducted starting with the m ost relevant or the highest ESG risk share \\nof the portfolio. However, the scope should be continuously expanded to cover additional \\nsegments and asset classes, eventually covering all relevant parts of the portfolio. \\nGenerally, measurement methodologies sh ould be tailored  to capture the specificities of an \\nasset class and specific ESG risks (e.g. transition vs. physical risk). Whilst developing \\nmeasurement methodologies and capabilities, ESG risk assessments can initially focus on the \\nmost relevant share of  the portfolio. This should include sectors or geographies where ESG \\nrisks are more concentrated, such as high carbon sectors for transition and coastal and \\n \\n \\n162 Science Based Targets  Initiative  (2020). Financial sector science -based targets guidance.  Available at:  \\nhttps://sciencebasedtargets.org/resources/files/Financial -Sector -Science -Based -Targets -Guidance -Pilot -Version.p df. \\nSBTi Portfolio \\nCoverage \\nApproachBanks set emissions -based\\nphysical intensity targets for\\nreal estate and mortgage –\\nrelated investments and loans,\\naswell asother asset classesSectoral \\nDecarbonization \\nApproach (SDA)\\nPortfolio \\nTemperature \\nRating \\nApproachBanks commit to having a\\nportion oftheir clients settheir\\nown SBTi -approved targets\\nsuch that the FIisonalinear\\npath to 100 % portfolio\\ncoverage by2040\\nBanks to determine their\\ncurrent portfolio temperature\\nand take actions toalign them\\ntolong -term temperature goals\\nby engaging with portfolio\\ncompaniesCalculating physical \\nemissions intensity for SDA \\ntargets:\\n•Measure GHG \\nemissions per \\ninvestment and/or \\nloan\\n•Calculate the share of \\nborrowers’ and/or \\ninvestees’ emissions \\nthat should be \\nattributed to the bank\\n•Divide sum of \\nattributed emissions \\nby sum of attributed \\nactivity data of all \\ninvestments and/or \\nloans', metadata={'source': 'EV0320161ENN.pdf', 'page': 77}),\n",
       "  0.3659050762653351),\n",
       " (Document(page_content='72  \\ntrajectory. Steering can be achieved at portfolio level, either by accompanying existing \\ncounterparties to align their  activities, or by adjusting the customer base.  \\nSource: 2° Investing Initiative (2020)  \\nDespite the relatively nascent status of this field , various approaches are being developed to \\ndefine and set the underlying science -based portfolio targets. In particular, a trend towards using \\nsector -specific approaches such as the Sectoral Decarbonisation Approach148 can be observed . \\nThese approaches  rely on the development and use of emission -based physical intensity metrics , \\nnamely energy or carbon intensity metrics that use a physical unit denominator and are \\napplicable to a specific sector (e.g. kgCO2/MWh  for the power sector and MWh/m2 for real \\nestate).149 ln addition, efforts are being undertaken to develop disclosure metrics that indicate the \\nimp lied temperature rise (ITR), which attempts to estimate the global temperature rise associated \\nwith the emissions of (a portfolio of) companies.150 However, as stated by respondents, such ITR \\nmetrics are still subject to significant challenges, such as a la ck of robustness or consensus in \\nterms of methodology, as well as coverage limitations.  \\nCivil society organisations highlighted the importance of setting sector -specific targets as it \\nwould be misleading to set an overall target on carbon emissions for the  entire portfolio. For \\nexample, overweighting healthcare in the portfolio can improve the overall carbon physical \\nintensity figure; however, it does not help to reduce emissions in the real economy. Instead, civil \\nsociety organisations advocate methodologi es that assess the degree of portfolio alignment with \\na given climate scenario to establish a forward -looking view. While the scope of portfolios \\nmeasured should be broad, outcomes should remain at sectoral level and not be aggregated. \\nAdditional examples of methodologies developed by industrial bodies for setting targets aiming \\nat assessing a portfolio’s alignment with low -carbon trajectories are summarised in  Table 6. \\nTable 6: Various approaches for measuring Paris Alignment151 \\nMethodology  Approach  Metrics  \\nSector \\nDecarbonization \\nApproach (SDA)  • Approach developed by SBTi for brown sectors such \\nas energy/power  \\n• Sector -level carbon emissions allocation approach \\nbased on production intensity  • Depending on \\nsector, e.g., \\nkgCO2/ kWh  \\nGHG Emissions \\nper unit of Value \\nAdded (GEVA)  • Approach developed by SBTi for ‘non -brown’ sectors \\n(e.g. IT)  \\n• A carbon budget is equated to global GDP and a \\ncompany’s share of emissions is determined by its \\ngross profit  • kgCO2/ gross \\nvalue -added  \\nAbsolute \\nEmissions  • Approach developed by SBTi  \\n• The percent reduction in absolute emissions \\nrequired by a given scenario is applied to all \\ncompanies equally  • Absolute kgCO2 \\nemissions  \\n \\n \\n148 Science Based Targets Initiative (2015). Sectoral Decarbonisation Approach: A method for setting corporate emission \\nreduction targets in line with climate science. Available at: https://sciencebasedtargets.org/wp -\\ncontent/uploads/2015/05/Sectoral -Decarbonization -Approach -Report.pdf . \\n149 Science Based Targets  Initiative  (2020). Financial sector science -based targets guidance.  Available at:  \\nhttps://sciencebasedtargets.org/resources/f iles/Financial -Sector -Science -Based -Targets -Guidance -Pilot -Version.pdf . \\n150 Banque de France (2020).  Responsible Investment Report 2019 . Available at: https://www.banque -\\nfrance.fr/sites/default/files/media/2020/06/26/rapport -annuel -investissement -responsable_2019_en.pdf . \\n151 Institut Louis Bachelier et al. (2020). The Alignment Cookbook - A Technical  \\nReview of Methodologies Assessing a Portfolio’s Alignment with Low -carbon Trajectories or Temperature Goal.  Available \\nat: https://www.louisbachelier.org/wp -content/uploads/202 0/07/rapport -0607.pdf .', metadata={'source': 'EV0320161ENN.pdf', 'page': 72}),\n",
       "  0.40705594420433044),\n",
       " (Document(page_content='70  \\nProbability of default calibration was undertaken to understand how the trans ition scenarios \\ncould impact the credit standing of entities assessed. Companies were segmented and \\ngrouped together with similar characteristics. The stress was only applied to exploration and \\nproduction sub -sets. The approach used a bottom -up, quantitati ve-based stress test \\nsupported by qualitative assumptions where required.  \\nResults  \\nResults from this exercise showed that under the 2040 2° scenario the climate stressed \\nexposure to default -weighted average portfolio PD was:  \\n• 2.2x greater in the US relative to 2017  \\n• 2.3x greater in the EU relative to 2017  \\nHowever, given that the majority of utilities were investment grade, stressed average PDs \\nresulted in portfolio remaining largely in the investment grade area.  \\nSource: Public reports from banks and BlackRock FMA analysis  \\nLastly, when looking at ESG risk assessment from the environmental and social  materiality \\nperspective, most banks discussed Paris /pathway a lignment  or net zero strategy  exercises, given \\ngrowing public commitments to align lending and  investment activities with science -based \\ntargets . The case study in Figure 29 provides an overview of the approach undertaken by five \\nbanks that publicly pledged to develop a methodology to measure the climate alignment of their \\nlending portfolios under the Katowice commitment in 2018.142 Since the launch of this initiative, \\nmore ba nks have committed to aligning the portfolio, for instance by joining the Collective \\nCommitment to Climate Action.143  \\nMore recently, principles related to the development of net zero strategies’ have been developed,  \\nfor example by the SBTi. As outlined in their principles, net zero strategies  requir e banks to \\nachieve  a scale of value chain emissions (scope 1, 2 and 3) so that “reductions are consistent with \\nthe depth of abatement in pathways that limit warming to 1.5°C ”. In addition, banks are required \\nto neutralise the impact of any source of residual emission by permanently removing any \\nequivalent volume of atmospheric C02.144 This can be achieved, for example, by purchasing high -\\nquality carbon credits or providing direct financial support to projects that  generate positive \\nimpact such as investments in net emissions technologies (e.g. carbon capture).  \\nFigure 29: Case study on credit portfolio alignment145  \\nFor the banking business, aligning with the Paris Agreement implies reorienting financial \\ninstrument products or portfolios away from non -consistent activities and/or scaling -up \\nconsistent activities as the alignment determines how much and by when should green, \\ntransitioning and brown activities be developed or financed. The alignment approach \\n \\n \\n142 2˚ Investing Initiative (2019). The Katowice commitment: one year on . Available at: https://2degrees -\\ninvesting.org/the -katowice -commitment -one-year -on/. \\n143 UNEP FI (2019).  33 banks commit to immediate action towards aligning with global climate goals . Available at : \\nhttps://www.unepfi.org/news/industries/banking/collective -commitment -to-climate -\\naction/#:~:text=The%20Collective%20Commitment%20to%20Climate,Paris%20Agreement%20on%20Climate%2C\\n%20including %3A&text=being%20publicly%20accountable%20for%20their%20climate%20impact%20and%20pro\\ngress%20on%20these%20commitments . \\n144Science Based Targets Initiative (2021). Net-Zero Criteria Draft for Public Consultation. Available at: \\nhttps://sciencebasedtargets.org/resources/files/Net -Zero -Criteria -Draft -for-Public -Consultation -v1-0.pdf   \\n145 2° Investing Initiative (2020 ). Credit Portfolio Alignment - An application of the PACTA methodology by Katowice Banks \\nin partnership with the 2 Degrees Investing Initiative. Available at: https://2degrees -investing.org/wp -\\ncontent/uploads/2020/09/Katowice -Banks -2020 -Credit -Portfolio -Alignment.pdf .', metadata={'source': 'EV0320161ENN.pdf', 'page': 70}),\n",
       "  0.41169512271881104)]"
      ]
     },
     "execution_count": 21,
     "metadata": {},
     "output_type": "execute_result"
    }
   ],
   "source": [
    "from langchain.document_loaders import PyPDFLoader\n",
    "loader=PyPDFLoader(\"EV0320161ENN.pdf\")\n",
    "pages=loader.load_and_split()\n",
    "\n",
    "index=Chroma.from_documents(pages,OpenAIEmbeddings())\n",
    "\n",
    "docs=index.similarity_search_with_score(query,\n",
    "                                        k=3)\n",
    "\n",
    "docs"
   ]
  }
 ],
 "metadata": {
  "kernelspec": {
   "display_name": "Python 3 (ipykernel)",
   "language": "python",
   "name": "python3"
  },
  "language_info": {
   "codemirror_mode": {
    "name": "ipython",
    "version": 3
   },
   "file_extension": ".py",
   "mimetype": "text/x-python",
   "name": "python",
   "nbconvert_exporter": "python",
   "pygments_lexer": "ipython3",
   "version": "3.9.16"
  },
  "toc": {
   "base_numbering": 1,
   "nav_menu": {},
   "number_sections": true,
   "sideBar": true,
   "skip_h1_title": false,
   "title_cell": "Table of Contents",
   "title_sidebar": "Contents",
   "toc_cell": false,
   "toc_position": {},
   "toc_section_display": true,
   "toc_window_display": false
  }
 },
 "nbformat": 4,
 "nbformat_minor": 5
}
